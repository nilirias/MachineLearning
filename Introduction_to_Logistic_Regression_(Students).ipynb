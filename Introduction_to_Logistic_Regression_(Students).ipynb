{
  "cells": [
    {
      "cell_type": "markdown",
      "metadata": {
        "id": "view-in-github",
        "colab_type": "text"
      },
      "source": [
        "<a href=\"https://colab.research.google.com/github/nilirias/MachineLearning/blob/main/Introduction_to_Logistic_Regression_(Students).ipynb\" target=\"_parent\"><img src=\"https://colab.research.google.com/assets/colab-badge.svg\" alt=\"Open In Colab\"/></a>"
      ]
    },
    {
      "cell_type": "markdown",
      "metadata": {
        "id": "PSq2BA0ht1fA"
      },
      "source": [
        "# Introduction to Logistic Regression\n",
        "## Practical Lab\n",
        "\n",
        "## **Foreword**\n",
        "Hi there!\n",
        "\n",
        "Despite this lab being an introduction to Logistic Regression, it relies on Python heavily. Therefore, here is a piece of advice -- **documentation is your best friend!** Next, you go to **Google** and **Stack Overflow** or other boards.\n",
        "\n",
        "*A properly formulated Google search query can save you tons of time.*\n",
        "\n",
        "There are no overly complicated Python concepts in here like OOP or even loops are rare if any. Yet, you are free to use whatever methods, functions and libraries you want to reach the result.\n",
        "\n",
        "Tips and suggestions for the libraries will be provided. Additional **HINTS** may be found throughout the lab.\n",
        "\n",
        "Good luck!"
      ]
    },
    {
      "cell_type": "markdown",
      "metadata": {
        "id": "Zf0rRKrbt1fE"
      },
      "source": [
        "Of course, the idea is to use Scikit-learn -- a machine learning library, which makes doing Logistic Regression easy. However, before that, you would need to prepare the data and visualize it.\n",
        "\n",
        "**(You can use whatever libraries you are comfortable with. The list below is just a recommendation.)**\n",
        "\n",
        "For this we would use the following libraries:\n",
        "\n",
        "- `pandas` for building dataframes from .csv files and data manipulation\n",
        "- `numpy` for working with arrays and matrices\n",
        "- `matplotlib` as the backend for data visualization\n",
        "- `seaborn` as the frontend for data visualization\n",
        "- `scikit-learn` a.k.a. `sklearn` for machine learning"
      ]
    },
    {
      "cell_type": "code",
      "execution_count": null,
      "metadata": {
        "id": "j1XqnMmMt1fG"
      },
      "outputs": [],
      "source": [
        "# Import the above-mentioned libraries following the convention naturally you can tweak these imports to your own preference\n",
        "import pandas as pd\n",
        "import matplotlib.pyplot as plt\n",
        "import seaborn as sns\n",
        "import numpy as np"
      ]
    },
    {
      "cell_type": "markdown",
      "metadata": {
        "id": "cxuCZX0yt1fJ"
      },
      "source": [
        "Now below you see a table you will be working with. However, this table is in Markdown and you cannot manipulate it  in Python directly. For this you are provided with a .csv file called `Data1.csv` which will help you to build the same dataframe using `pandas`."
      ]
    },
    {
      "cell_type": "markdown",
      "metadata": {
        "id": "QcRGDcFPt1fK"
      },
      "source": [
        "|Person|Income |Sex|Buy|\n",
        "|------|-------|---|---|\n",
        "|1     | 2,530 |0  |1  |\n",
        "|2     | 2,370 |1  |0  |\n",
        "|3     | 2,720 |1  |1  |\n",
        "|4     | 2,540 |0  |0  |\n",
        "|5     | 3,200 |1  |1  |\n",
        "|6     | 2,940 |0  |1  |\n",
        "|7     | 3,200 |0  |1  |\n",
        "|8     | 2,720 |1  |1  |\n",
        "|9     | 2,930 |0  |1  |\n",
        "|10    | 2,370 |0  |0  |\n",
        "|11    | 2,240 |1  |1  |\n",
        "|12    | 1,910 |1  |1  |\n",
        "|13    | 2,120 |0  |1  |\n",
        "|14    | 1,830 |1  |1  |\n",
        "|15    | 1,920 |1  |1  |\n",
        "|16    | 2,010 |0  |0  |\n",
        "|17    | 2,010 |0  |0  |\n",
        "|18    | 2,230 |1  |0  |\n",
        "|19    | 1,820 |0  |0  |\n",
        "|20    | 2,110 |0  |0  |\n",
        "|21    | 1,750 |1  |1  |\n",
        "|22    | 1,460 |1  |0  |\n",
        "|23    | 1,610 |0  |1  |\n",
        "|24    | 1,570 |1  |0  |\n",
        "|25    | 1,370 |0  |0  |\n",
        "|26    | 1,410 |1  |0  |\n",
        "|27    | 1,510 |0  |0  |\n",
        "|28    | 1,750 |1  |1  |\n",
        "|29    | 1,680 |1  |1  |\n",
        "|30    | 1,620 |0  |0  |\n"
      ]
    },
    {
      "cell_type": "markdown",
      "metadata": {
        "id": "SxaKrplyt1fL"
      },
      "source": [
        "## Load data from CSV file\n",
        "\n",
        "Now use `pd.read_csv()` function to read the csv into the pandas dataframe. Please, refer to `pandas` documentation if needed or here is the link to [`read_csv()` function documentation](https://pandas.pydata.org/docs/reference/api/pandas.read_csv.html). \n",
        "\n",
        "Call your dataframe `df`.\n",
        "\n",
        "*Bonus task: Try to make the first column into the index column when importing.*"
      ]
    },
    {
      "cell_type": "code",
      "execution_count": null,
      "metadata": {
        "id": "vW3e4Py8t1fM"
      },
      "outputs": [],
      "source": [
        "# YOUR CODE HERE\n",
        "df = pd.read_csv('Data1.csv')"
      ]
    },
    {
      "cell_type": "markdown",
      "metadata": {
        "id": "7rq9ELxQt1fN"
      },
      "source": [
        "Double-click **here** for the solution.\n",
        "\n",
        "<!-- Your answer is below:\n",
        "    \n",
        "df = pd.read_csv(\"Data1.csv\", index_col=0)\n",
        "\n",
        "-->"
      ]
    },
    {
      "cell_type": "code",
      "execution_count": null,
      "metadata": {
        "id": "VI5sUuI7t1fP",
        "colab": {
          "base_uri": "https://localhost:8080/",
          "height": 206
        },
        "outputId": "1dbe7766-a16f-426c-f2a2-312fee131b30"
      },
      "outputs": [
        {
          "output_type": "execute_result",
          "data": {
            "text/plain": [
              "   Person Income  Sex  Buy\n",
              "0       1  2,530    0    1\n",
              "1       2  2,370    1    0\n",
              "2       3  2,720    1    1\n",
              "3       4  2,540    0    0\n",
              "4       5  3,200    1    1"
            ],
            "text/html": [
              "\n",
              "  <div id=\"df-ceea62d7-0584-4874-840a-d09f64ec4a29\">\n",
              "    <div class=\"colab-df-container\">\n",
              "      <div>\n",
              "<style scoped>\n",
              "    .dataframe tbody tr th:only-of-type {\n",
              "        vertical-align: middle;\n",
              "    }\n",
              "\n",
              "    .dataframe tbody tr th {\n",
              "        vertical-align: top;\n",
              "    }\n",
              "\n",
              "    .dataframe thead th {\n",
              "        text-align: right;\n",
              "    }\n",
              "</style>\n",
              "<table border=\"1\" class=\"dataframe\">\n",
              "  <thead>\n",
              "    <tr style=\"text-align: right;\">\n",
              "      <th></th>\n",
              "      <th>Person</th>\n",
              "      <th>Income</th>\n",
              "      <th>Sex</th>\n",
              "      <th>Buy</th>\n",
              "    </tr>\n",
              "  </thead>\n",
              "  <tbody>\n",
              "    <tr>\n",
              "      <th>0</th>\n",
              "      <td>1</td>\n",
              "      <td>2,530</td>\n",
              "      <td>0</td>\n",
              "      <td>1</td>\n",
              "    </tr>\n",
              "    <tr>\n",
              "      <th>1</th>\n",
              "      <td>2</td>\n",
              "      <td>2,370</td>\n",
              "      <td>1</td>\n",
              "      <td>0</td>\n",
              "    </tr>\n",
              "    <tr>\n",
              "      <th>2</th>\n",
              "      <td>3</td>\n",
              "      <td>2,720</td>\n",
              "      <td>1</td>\n",
              "      <td>1</td>\n",
              "    </tr>\n",
              "    <tr>\n",
              "      <th>3</th>\n",
              "      <td>4</td>\n",
              "      <td>2,540</td>\n",
              "      <td>0</td>\n",
              "      <td>0</td>\n",
              "    </tr>\n",
              "    <tr>\n",
              "      <th>4</th>\n",
              "      <td>5</td>\n",
              "      <td>3,200</td>\n",
              "      <td>1</td>\n",
              "      <td>1</td>\n",
              "    </tr>\n",
              "  </tbody>\n",
              "</table>\n",
              "</div>\n",
              "      <button class=\"colab-df-convert\" onclick=\"convertToInteractive('df-ceea62d7-0584-4874-840a-d09f64ec4a29')\"\n",
              "              title=\"Convert this dataframe to an interactive table.\"\n",
              "              style=\"display:none;\">\n",
              "        \n",
              "  <svg xmlns=\"http://www.w3.org/2000/svg\" height=\"24px\"viewBox=\"0 0 24 24\"\n",
              "       width=\"24px\">\n",
              "    <path d=\"M0 0h24v24H0V0z\" fill=\"none\"/>\n",
              "    <path d=\"M18.56 5.44l.94 2.06.94-2.06 2.06-.94-2.06-.94-.94-2.06-.94 2.06-2.06.94zm-11 1L8.5 8.5l.94-2.06 2.06-.94-2.06-.94L8.5 2.5l-.94 2.06-2.06.94zm10 10l.94 2.06.94-2.06 2.06-.94-2.06-.94-.94-2.06-.94 2.06-2.06.94z\"/><path d=\"M17.41 7.96l-1.37-1.37c-.4-.4-.92-.59-1.43-.59-.52 0-1.04.2-1.43.59L10.3 9.45l-7.72 7.72c-.78.78-.78 2.05 0 2.83L4 21.41c.39.39.9.59 1.41.59.51 0 1.02-.2 1.41-.59l7.78-7.78 2.81-2.81c.8-.78.8-2.07 0-2.86zM5.41 20L4 18.59l7.72-7.72 1.47 1.35L5.41 20z\"/>\n",
              "  </svg>\n",
              "      </button>\n",
              "      \n",
              "  <style>\n",
              "    .colab-df-container {\n",
              "      display:flex;\n",
              "      flex-wrap:wrap;\n",
              "      gap: 12px;\n",
              "    }\n",
              "\n",
              "    .colab-df-convert {\n",
              "      background-color: #E8F0FE;\n",
              "      border: none;\n",
              "      border-radius: 50%;\n",
              "      cursor: pointer;\n",
              "      display: none;\n",
              "      fill: #1967D2;\n",
              "      height: 32px;\n",
              "      padding: 0 0 0 0;\n",
              "      width: 32px;\n",
              "    }\n",
              "\n",
              "    .colab-df-convert:hover {\n",
              "      background-color: #E2EBFA;\n",
              "      box-shadow: 0px 1px 2px rgba(60, 64, 67, 0.3), 0px 1px 3px 1px rgba(60, 64, 67, 0.15);\n",
              "      fill: #174EA6;\n",
              "    }\n",
              "\n",
              "    [theme=dark] .colab-df-convert {\n",
              "      background-color: #3B4455;\n",
              "      fill: #D2E3FC;\n",
              "    }\n",
              "\n",
              "    [theme=dark] .colab-df-convert:hover {\n",
              "      background-color: #434B5C;\n",
              "      box-shadow: 0px 1px 3px 1px rgba(0, 0, 0, 0.15);\n",
              "      filter: drop-shadow(0px 1px 2px rgba(0, 0, 0, 0.3));\n",
              "      fill: #FFFFFF;\n",
              "    }\n",
              "  </style>\n",
              "\n",
              "      <script>\n",
              "        const buttonEl =\n",
              "          document.querySelector('#df-ceea62d7-0584-4874-840a-d09f64ec4a29 button.colab-df-convert');\n",
              "        buttonEl.style.display =\n",
              "          google.colab.kernel.accessAllowed ? 'block' : 'none';\n",
              "\n",
              "        async function convertToInteractive(key) {\n",
              "          const element = document.querySelector('#df-ceea62d7-0584-4874-840a-d09f64ec4a29');\n",
              "          const dataTable =\n",
              "            await google.colab.kernel.invokeFunction('convertToInteractive',\n",
              "                                                     [key], {});\n",
              "          if (!dataTable) return;\n",
              "\n",
              "          const docLinkHtml = 'Like what you see? Visit the ' +\n",
              "            '<a target=\"_blank\" href=https://colab.research.google.com/notebooks/data_table.ipynb>data table notebook</a>'\n",
              "            + ' to learn more about interactive tables.';\n",
              "          element.innerHTML = '';\n",
              "          dataTable['output_type'] = 'display_data';\n",
              "          await google.colab.output.renderOutput(dataTable, element);\n",
              "          const docLink = document.createElement('div');\n",
              "          docLink.innerHTML = docLinkHtml;\n",
              "          element.appendChild(docLink);\n",
              "        }\n",
              "      </script>\n",
              "    </div>\n",
              "  </div>\n",
              "  "
            ]
          },
          "metadata": {},
          "execution_count": 11
        }
      ],
      "source": [
        "# check the resulting data frame and its first 5 rows\n",
        "df.head()"
      ]
    },
    {
      "cell_type": "markdown",
      "metadata": {
        "id": "uOmK-gont1fQ"
      },
      "source": [
        "You should see a dataframe that looks similar to this one below.\n",
        "\n",
        "|   Person | Income   |   Sex |   Buy |\n",
        "|---------:|:---------|------:|------:|\n",
        "|        1 | 2,530    |     0 |     1 |\n",
        "|        2 | 2,370    |     1 |     0 |\n",
        "|        3 | 2,720    |     1 |     1 |\n",
        "|        4 | 2,540    |     0 |     0 |\n",
        "|        5 | 3,200    |     1 |     1 |"
      ]
    },
    {
      "cell_type": "markdown",
      "metadata": {
        "id": "p-eNJ30Et1fR"
      },
      "source": [
        "## Data Pre-Processing\n",
        "\n",
        "Now that we imported the data, let's check its types.\n",
        "\n",
        "At this point you would probably see that the column **Income** has data formatted as strings or *objects*.\n",
        "However, for our calculations we would need these columns to be formatted as:\n",
        "\n",
        "- Income --> float64\n",
        "- Sex --> int64 (in the lecture the term 'gender' was used.)\n",
        "- Buy --> int64"
      ]
    },
    {
      "cell_type": "code",
      "execution_count": null,
      "metadata": {
        "id": "OUpbOBJet1fS",
        "colab": {
          "base_uri": "https://localhost:8080/"
        },
        "outputId": "6e4509e4-819a-4d4d-ba2f-1935f2bc893c"
      },
      "outputs": [
        {
          "output_type": "execute_result",
          "data": {
            "text/plain": [
              "Person     int64\n",
              "Income    object\n",
              "Sex        int64\n",
              "Buy        int64\n",
              "dtype: object"
            ]
          },
          "metadata": {},
          "execution_count": 12
        }
      ],
      "source": [
        "#displays types of data in each column\n",
        "df.dtypes"
      ]
    },
    {
      "cell_type": "markdown",
      "metadata": {
        "id": "mHvp7hoVt1fS"
      },
      "source": [
        "<div class=\"alert alert-block alert-warning\">\n",
        "    <b>As this type of thing is not really a purpose of this lab, feel free to use the solution below.\n",
        "</div>\n",
        "\n",
        "Otherwise, here is the hint:\n",
        "- use dataframe filtering and selection to re-assign the values in the column like this:\n",
        "\n",
        "  ```python\n",
        "  df['Income'] = df['Income'] * 3 \n",
        "                    #it will multiply all income values (if numbers) by three (works differently for strings)\n",
        "  ```\n",
        "  \n",
        "- the numbers in the Income column (which are currently strings) have blank spaces on both sides of them. [This one](https://pandas.pydata.org/docs/reference/api/pandas.Series.str.strip.html) might be helpful.\n",
        "- to convert strings to floats we need to replace ',' (commas) with a '.' (dot). For this [`pandas apply`](https://pandas.pydata.org/docs/reference/api/pandas.DataFrame.apply.html), `lambda` and `.replace()` can help.\n",
        "- finally [`pandas astype`](https://pandas.pydata.org/docs/reference/api/pandas.DataFrame.astype.html) can finish the process"
      ]
    },
    {
      "cell_type": "code",
      "source": [
        "#YOUR CODE HERE\n",
        "df['Income'] = df['Income'].str.strip().str.replace(\",\",\".\") #df['Income'] = df['Income'].fillna(0).astype(np.float) \n",
        "df['Income'] = df['Income'].astype(float)\n",
        "df.dtypes"
      ],
      "metadata": {
        "id": "QtG8uBFa0Kug",
        "colab": {
          "base_uri": "https://localhost:8080/"
        },
        "outputId": "ae9288d2-0a8b-40a8-a312-408ed9f9d907"
      },
      "execution_count": null,
      "outputs": [
        {
          "output_type": "execute_result",
          "data": {
            "text/plain": [
              "Person      int64\n",
              "Income    float64\n",
              "Sex         int64\n",
              "Buy         int64\n",
              "dtype: object"
            ]
          },
          "metadata": {},
          "execution_count": 13
        }
      ]
    },
    {
      "cell_type": "markdown",
      "metadata": {
        "id": "pTlNMPpit1fT"
      },
      "source": [
        "\n",
        "Double-click **here** for the solution.\n",
        "\n",
        "<!-- Your answer is below:\n",
        "    \n",
        "df['Income'] = df['Income'].str.strip()\n",
        "df['Income'] = df['Income'].apply(lambda x: x.replace(',','.'))\n",
        "df['Income'] = df['Income'].astype(float)\n",
        "\n",
        "-->"
      ]
    },
    {
      "cell_type": "markdown",
      "metadata": {
        "id": "RgBC2bO7t1fU"
      },
      "source": [
        "## Creating placeholder for y-intercept\n",
        "\n",
        "Now we need to create a placeholder for y-intercept. For this we add a new column called **int** to our dataframe and assign it a value of 1.\n",
        "\n",
        "This is absolutely needed to get the reuired solutions if using `scikit learn` later on!"
      ]
    },
    {
      "cell_type": "code",
      "execution_count": null,
      "metadata": {
        "id": "hZQRPabMt1fV"
      },
      "outputs": [],
      "source": [
        "df['int'] = 1"
      ]
    },
    {
      "cell_type": "code",
      "execution_count": null,
      "metadata": {
        "id": "0353mrJft1fW",
        "colab": {
          "base_uri": "https://localhost:8080/",
          "height": 206
        },
        "outputId": "342b2f57-7ffc-410b-c044-7ebfc574f35b"
      },
      "outputs": [
        {
          "output_type": "execute_result",
          "data": {
            "text/plain": [
              "   Person  Income  Sex  Buy  int\n",
              "0       1    2.53    0    1    1\n",
              "1       2    2.37    1    0    1\n",
              "2       3    2.72    1    1    1\n",
              "3       4    2.54    0    0    1\n",
              "4       5    3.20    1    1    1"
            ],
            "text/html": [
              "\n",
              "  <div id=\"df-4a724f7b-13f9-4615-9661-ef2073acfff0\">\n",
              "    <div class=\"colab-df-container\">\n",
              "      <div>\n",
              "<style scoped>\n",
              "    .dataframe tbody tr th:only-of-type {\n",
              "        vertical-align: middle;\n",
              "    }\n",
              "\n",
              "    .dataframe tbody tr th {\n",
              "        vertical-align: top;\n",
              "    }\n",
              "\n",
              "    .dataframe thead th {\n",
              "        text-align: right;\n",
              "    }\n",
              "</style>\n",
              "<table border=\"1\" class=\"dataframe\">\n",
              "  <thead>\n",
              "    <tr style=\"text-align: right;\">\n",
              "      <th></th>\n",
              "      <th>Person</th>\n",
              "      <th>Income</th>\n",
              "      <th>Sex</th>\n",
              "      <th>Buy</th>\n",
              "      <th>int</th>\n",
              "    </tr>\n",
              "  </thead>\n",
              "  <tbody>\n",
              "    <tr>\n",
              "      <th>0</th>\n",
              "      <td>1</td>\n",
              "      <td>2.53</td>\n",
              "      <td>0</td>\n",
              "      <td>1</td>\n",
              "      <td>1</td>\n",
              "    </tr>\n",
              "    <tr>\n",
              "      <th>1</th>\n",
              "      <td>2</td>\n",
              "      <td>2.37</td>\n",
              "      <td>1</td>\n",
              "      <td>0</td>\n",
              "      <td>1</td>\n",
              "    </tr>\n",
              "    <tr>\n",
              "      <th>2</th>\n",
              "      <td>3</td>\n",
              "      <td>2.72</td>\n",
              "      <td>1</td>\n",
              "      <td>1</td>\n",
              "      <td>1</td>\n",
              "    </tr>\n",
              "    <tr>\n",
              "      <th>3</th>\n",
              "      <td>4</td>\n",
              "      <td>2.54</td>\n",
              "      <td>0</td>\n",
              "      <td>0</td>\n",
              "      <td>1</td>\n",
              "    </tr>\n",
              "    <tr>\n",
              "      <th>4</th>\n",
              "      <td>5</td>\n",
              "      <td>3.20</td>\n",
              "      <td>1</td>\n",
              "      <td>1</td>\n",
              "      <td>1</td>\n",
              "    </tr>\n",
              "  </tbody>\n",
              "</table>\n",
              "</div>\n",
              "      <button class=\"colab-df-convert\" onclick=\"convertToInteractive('df-4a724f7b-13f9-4615-9661-ef2073acfff0')\"\n",
              "              title=\"Convert this dataframe to an interactive table.\"\n",
              "              style=\"display:none;\">\n",
              "        \n",
              "  <svg xmlns=\"http://www.w3.org/2000/svg\" height=\"24px\"viewBox=\"0 0 24 24\"\n",
              "       width=\"24px\">\n",
              "    <path d=\"M0 0h24v24H0V0z\" fill=\"none\"/>\n",
              "    <path d=\"M18.56 5.44l.94 2.06.94-2.06 2.06-.94-2.06-.94-.94-2.06-.94 2.06-2.06.94zm-11 1L8.5 8.5l.94-2.06 2.06-.94-2.06-.94L8.5 2.5l-.94 2.06-2.06.94zm10 10l.94 2.06.94-2.06 2.06-.94-2.06-.94-.94-2.06-.94 2.06-2.06.94z\"/><path d=\"M17.41 7.96l-1.37-1.37c-.4-.4-.92-.59-1.43-.59-.52 0-1.04.2-1.43.59L10.3 9.45l-7.72 7.72c-.78.78-.78 2.05 0 2.83L4 21.41c.39.39.9.59 1.41.59.51 0 1.02-.2 1.41-.59l7.78-7.78 2.81-2.81c.8-.78.8-2.07 0-2.86zM5.41 20L4 18.59l7.72-7.72 1.47 1.35L5.41 20z\"/>\n",
              "  </svg>\n",
              "      </button>\n",
              "      \n",
              "  <style>\n",
              "    .colab-df-container {\n",
              "      display:flex;\n",
              "      flex-wrap:wrap;\n",
              "      gap: 12px;\n",
              "    }\n",
              "\n",
              "    .colab-df-convert {\n",
              "      background-color: #E8F0FE;\n",
              "      border: none;\n",
              "      border-radius: 50%;\n",
              "      cursor: pointer;\n",
              "      display: none;\n",
              "      fill: #1967D2;\n",
              "      height: 32px;\n",
              "      padding: 0 0 0 0;\n",
              "      width: 32px;\n",
              "    }\n",
              "\n",
              "    .colab-df-convert:hover {\n",
              "      background-color: #E2EBFA;\n",
              "      box-shadow: 0px 1px 2px rgba(60, 64, 67, 0.3), 0px 1px 3px 1px rgba(60, 64, 67, 0.15);\n",
              "      fill: #174EA6;\n",
              "    }\n",
              "\n",
              "    [theme=dark] .colab-df-convert {\n",
              "      background-color: #3B4455;\n",
              "      fill: #D2E3FC;\n",
              "    }\n",
              "\n",
              "    [theme=dark] .colab-df-convert:hover {\n",
              "      background-color: #434B5C;\n",
              "      box-shadow: 0px 1px 3px 1px rgba(0, 0, 0, 0.15);\n",
              "      filter: drop-shadow(0px 1px 2px rgba(0, 0, 0, 0.3));\n",
              "      fill: #FFFFFF;\n",
              "    }\n",
              "  </style>\n",
              "\n",
              "      <script>\n",
              "        const buttonEl =\n",
              "          document.querySelector('#df-4a724f7b-13f9-4615-9661-ef2073acfff0 button.colab-df-convert');\n",
              "        buttonEl.style.display =\n",
              "          google.colab.kernel.accessAllowed ? 'block' : 'none';\n",
              "\n",
              "        async function convertToInteractive(key) {\n",
              "          const element = document.querySelector('#df-4a724f7b-13f9-4615-9661-ef2073acfff0');\n",
              "          const dataTable =\n",
              "            await google.colab.kernel.invokeFunction('convertToInteractive',\n",
              "                                                     [key], {});\n",
              "          if (!dataTable) return;\n",
              "\n",
              "          const docLinkHtml = 'Like what you see? Visit the ' +\n",
              "            '<a target=\"_blank\" href=https://colab.research.google.com/notebooks/data_table.ipynb>data table notebook</a>'\n",
              "            + ' to learn more about interactive tables.';\n",
              "          element.innerHTML = '';\n",
              "          dataTable['output_type'] = 'display_data';\n",
              "          await google.colab.output.renderOutput(dataTable, element);\n",
              "          const docLink = document.createElement('div');\n",
              "          docLink.innerHTML = docLinkHtml;\n",
              "          element.appendChild(docLink);\n",
              "        }\n",
              "      </script>\n",
              "    </div>\n",
              "  </div>\n",
              "  "
            ]
          },
          "metadata": {},
          "execution_count": 15
        }
      ],
      "source": [
        "df.head()"
      ]
    },
    {
      "cell_type": "markdown",
      "metadata": {
        "id": "5ZR-AxFLt1fX"
      },
      "source": [
        "## Data Visualization\n",
        "\n",
        "### Task 1\n",
        "\n",
        "Now, please, create a scatter plot of our data. Display *Income* on the x-axis and *Buy* on y-axis.\n",
        "\n",
        "**HINT:** The easiest way to do it is to use [`pandas plot`](https://pandas.pydata.org/pandas-docs/stable/reference/api/pandas.DataFrame.plot.html)"
      ]
    },
    {
      "cell_type": "code",
      "execution_count": null,
      "metadata": {
        "id": "WU9hls8bt1fX",
        "colab": {
          "base_uri": "https://localhost:8080/",
          "height": 282
        },
        "outputId": "c8ad117e-ba8c-437a-94eb-9604702e7590"
      },
      "outputs": [
        {
          "output_type": "execute_result",
          "data": {
            "text/plain": [
              "<matplotlib.collections.PathCollection at 0x7ff913da0d10>"
            ]
          },
          "metadata": {},
          "execution_count": 19
        },
        {
          "output_type": "display_data",
          "data": {
            "text/plain": [
              "<Figure size 432x288 with 1 Axes>"
            ],
            "image/png": "[encoded data removed]"
          },
          "metadata": {
            "needs_background": "light"
          }
        }
      ],
      "source": [
        "#YOUR CODE HERE - option 1\n",
        "import matplotlib\n",
        "matplotlib.pyplot.scatter(x = df['Income'], y = df['Buy'])"
      ]
    },
    {
      "cell_type": "code",
      "source": [
        "#YOUR CODE HERE - option 2\n",
        "df.plot.scatter(x = 'Income', y = 'Buy', s = 10, c = 'Buy', cmap = 'coolwarm', xlabel = 'Income' ,ylabel='Buy', title='Data Visualization')"
      ],
      "metadata": {
        "colab": {
          "base_uri": "https://localhost:8080/",
          "height": 287
        },
        "id": "Q1ZQ_bnmaMTv",
        "outputId": "2436f2aa-dae0-45a8-8016-af865ad5afe1"
      },
      "execution_count": null,
      "outputs": [
        {
          "output_type": "execute_result",
          "data": {
            "text/plain": [
              "<matplotlib.axes._subplots.AxesSubplot at 0x7ff912e42450>"
            ]
          },
          "metadata": {},
          "execution_count": 34
        },
        {
          "output_type": "display_data",
          "data": {
            "text/plain": [
              "<Figure size 432x288 with 2 Axes>"
            ],
            "image/png": "[encoded data removed]"
          },
          "metadata": {
            "needs_background": "light"
          }
        }
      ]
    },
    {
      "cell_type": "code",
      "source": [
        "# Answer provided\n",
        "fig, ax = plt.subplots()\n",
        "df.plot(kind='scatter', x=\"Income\", y=\"Buy\", c=\"Buy\", cmap=\"coolwarm\", ax=ax)"
      ],
      "metadata": {
        "colab": {
          "base_uri": "https://localhost:8080/",
          "height": 300
        },
        "id": "l0nluEmFcAvr",
        "outputId": "a3f92352-d120-49b5-dd1b-0b708f55c008"
      },
      "execution_count": null,
      "outputs": [
        {
          "output_type": "execute_result",
          "data": {
            "text/plain": [
              "<matplotlib.axes._subplots.AxesSubplot at 0x7ff912efe4d0>"
            ]
          },
          "metadata": {},
          "execution_count": 33
        },
        {
          "output_type": "display_data",
          "data": {
            "text/plain": [
              "<Figure size 432x288 with 2 Axes>"
            ],
            "image/png": "[encoded data removed]"
          },
          "metadata": {
            "needs_background": "light"
          }
        }
      ]
    },
    {
      "cell_type": "markdown",
      "metadata": {
        "id": "yxfjFa23t1fX"
      },
      "source": [
        "Double-click **here** for the solution.\n",
        "\n",
        "<!-- Your answer is below:\n",
        "    \n",
        "fig, ax = plt.subplots()\n",
        "df.plot(kind='scatter', x=\"Income\", y=\"Buy\", c=\"Buy\", cmap=\"coolwarm\", ax=ax)\n",
        "\n",
        "-->"
      ]
    },
    {
      "cell_type": "markdown",
      "metadata": {
        "id": "pjKqj6vwt1fX"
      },
      "source": [
        "## Data Selection\n",
        "\n",
        "The final stage of data preparation is to select the data to teach the model. We need to create the `numpy` arrays for the independent variables and the dependent variable.\n",
        "\n",
        "We will use [`numpy.asarray()`](https://numpy.org/doc/stable/reference/generated/numpy.asarray.html) for this.\n",
        "\n",
        "By convention we call the arrays:\n",
        "\n",
        "- X --> for independent variables (Note: the 'x' is a capital 'X')\n",
        "- y --> for dependent variables (Note: the 'y' is lower case 'y')"
      ]
    },
    {
      "cell_type": "markdown",
      "metadata": {
        "id": "svvjOojIt1fY"
      },
      "source": [
        "<div class=\"alert alert-block alert-danger\">\n",
        "    <b>We need to include `int` column in our 'X' array so it becomes a feature for our LogReg\n",
        "</div>"
      ]
    },
    {
      "cell_type": "code",
      "source": [
        "df.head()"
      ],
      "metadata": {
        "colab": {
          "base_uri": "https://localhost:8080/",
          "height": 206
        },
        "id": "k1LgqbNpcf-b",
        "outputId": "9ad03059-7fcd-4d20-d972-f8f1b72852c7"
      },
      "execution_count": null,
      "outputs": [
        {
          "output_type": "execute_result",
          "data": {
            "text/plain": [
              "   Person  Income  Sex  Buy  int\n",
              "0       1    2.53    0    1    1\n",
              "1       2    2.37    1    0    1\n",
              "2       3    2.72    1    1    1\n",
              "3       4    2.54    0    0    1\n",
              "4       5    3.20    1    1    1"
            ],
            "text/html": [
              "\n",
              "  <div id=\"df-1be786db-d341-4f45-b294-0ed72fd9f342\">\n",
              "    <div class=\"colab-df-container\">\n",
              "      <div>\n",
              "<style scoped>\n",
              "    .dataframe tbody tr th:only-of-type {\n",
              "        vertical-align: middle;\n",
              "    }\n",
              "\n",
              "    .dataframe tbody tr th {\n",
              "        vertical-align: top;\n",
              "    }\n",
              "\n",
              "    .dataframe thead th {\n",
              "        text-align: right;\n",
              "    }\n",
              "</style>\n",
              "<table border=\"1\" class=\"dataframe\">\n",
              "  <thead>\n",
              "    <tr style=\"text-align: right;\">\n",
              "      <th></th>\n",
              "      <th>Person</th>\n",
              "      <th>Income</th>\n",
              "      <th>Sex</th>\n",
              "      <th>Buy</th>\n",
              "      <th>int</th>\n",
              "    </tr>\n",
              "  </thead>\n",
              "  <tbody>\n",
              "    <tr>\n",
              "      <th>0</th>\n",
              "      <td>1</td>\n",
              "      <td>2.53</td>\n",
              "      <td>0</td>\n",
              "      <td>1</td>\n",
              "      <td>1</td>\n",
              "    </tr>\n",
              "    <tr>\n",
              "      <th>1</th>\n",
              "      <td>2</td>\n",
              "      <td>2.37</td>\n",
              "      <td>1</td>\n",
              "      <td>0</td>\n",
              "      <td>1</td>\n",
              "    </tr>\n",
              "    <tr>\n",
              "      <th>2</th>\n",
              "      <td>3</td>\n",
              "      <td>2.72</td>\n",
              "      <td>1</td>\n",
              "      <td>1</td>\n",
              "      <td>1</td>\n",
              "    </tr>\n",
              "    <tr>\n",
              "      <th>3</th>\n",
              "      <td>4</td>\n",
              "      <td>2.54</td>\n",
              "      <td>0</td>\n",
              "      <td>0</td>\n",
              "      <td>1</td>\n",
              "    </tr>\n",
              "    <tr>\n",
              "      <th>4</th>\n",
              "      <td>5</td>\n",
              "      <td>3.20</td>\n",
              "      <td>1</td>\n",
              "      <td>1</td>\n",
              "      <td>1</td>\n",
              "    </tr>\n",
              "  </tbody>\n",
              "</table>\n",
              "</div>\n",
              "      <button class=\"colab-df-convert\" onclick=\"convertToInteractive('df-1be786db-d341-4f45-b294-0ed72fd9f342')\"\n",
              "              title=\"Convert this dataframe to an interactive table.\"\n",
              "              style=\"display:none;\">\n",
              "        \n",
              "  <svg xmlns=\"http://www.w3.org/2000/svg\" height=\"24px\"viewBox=\"0 0 24 24\"\n",
              "       width=\"24px\">\n",
              "    <path d=\"M0 0h24v24H0V0z\" fill=\"none\"/>\n",
              "    <path d=\"M18.56 5.44l.94 2.06.94-2.06 2.06-.94-2.06-.94-.94-2.06-.94 2.06-2.06.94zm-11 1L8.5 8.5l.94-2.06 2.06-.94-2.06-.94L8.5 2.5l-.94 2.06-2.06.94zm10 10l.94 2.06.94-2.06 2.06-.94-2.06-.94-.94-2.06-.94 2.06-2.06.94z\"/><path d=\"M17.41 7.96l-1.37-1.37c-.4-.4-.92-.59-1.43-.59-.52 0-1.04.2-1.43.59L10.3 9.45l-7.72 7.72c-.78.78-.78 2.05 0 2.83L4 21.41c.39.39.9.59 1.41.59.51 0 1.02-.2 1.41-.59l7.78-7.78 2.81-2.81c.8-.78.8-2.07 0-2.86zM5.41 20L4 18.59l7.72-7.72 1.47 1.35L5.41 20z\"/>\n",
              "  </svg>\n",
              "      </button>\n",
              "      \n",
              "  <style>\n",
              "    .colab-df-container {\n",
              "      display:flex;\n",
              "      flex-wrap:wrap;\n",
              "      gap: 12px;\n",
              "    }\n",
              "\n",
              "    .colab-df-convert {\n",
              "      background-color: #E8F0FE;\n",
              "      border: none;\n",
              "      border-radius: 50%;\n",
              "      cursor: pointer;\n",
              "      display: none;\n",
              "      fill: #1967D2;\n",
              "      height: 32px;\n",
              "      padding: 0 0 0 0;\n",
              "      width: 32px;\n",
              "    }\n",
              "\n",
              "    .colab-df-convert:hover {\n",
              "      background-color: #E2EBFA;\n",
              "      box-shadow: 0px 1px 2px rgba(60, 64, 67, 0.3), 0px 1px 3px 1px rgba(60, 64, 67, 0.15);\n",
              "      fill: #174EA6;\n",
              "    }\n",
              "\n",
              "    [theme=dark] .colab-df-convert {\n",
              "      background-color: #3B4455;\n",
              "      fill: #D2E3FC;\n",
              "    }\n",
              "\n",
              "    [theme=dark] .colab-df-convert:hover {\n",
              "      background-color: #434B5C;\n",
              "      box-shadow: 0px 1px 3px 1px rgba(0, 0, 0, 0.15);\n",
              "      filter: drop-shadow(0px 1px 2px rgba(0, 0, 0, 0.3));\n",
              "      fill: #FFFFFF;\n",
              "    }\n",
              "  </style>\n",
              "\n",
              "      <script>\n",
              "        const buttonEl =\n",
              "          document.querySelector('#df-1be786db-d341-4f45-b294-0ed72fd9f342 button.colab-df-convert');\n",
              "        buttonEl.style.display =\n",
              "          google.colab.kernel.accessAllowed ? 'block' : 'none';\n",
              "\n",
              "        async function convertToInteractive(key) {\n",
              "          const element = document.querySelector('#df-1be786db-d341-4f45-b294-0ed72fd9f342');\n",
              "          const dataTable =\n",
              "            await google.colab.kernel.invokeFunction('convertToInteractive',\n",
              "                                                     [key], {});\n",
              "          if (!dataTable) return;\n",
              "\n",
              "          const docLinkHtml = 'Like what you see? Visit the ' +\n",
              "            '<a target=\"_blank\" href=https://colab.research.google.com/notebooks/data_table.ipynb>data table notebook</a>'\n",
              "            + ' to learn more about interactive tables.';\n",
              "          element.innerHTML = '';\n",
              "          dataTable['output_type'] = 'display_data';\n",
              "          await google.colab.output.renderOutput(dataTable, element);\n",
              "          const docLink = document.createElement('div');\n",
              "          docLink.innerHTML = docLinkHtml;\n",
              "          element.appendChild(docLink);\n",
              "        }\n",
              "      </script>\n",
              "    </div>\n",
              "  </div>\n",
              "  "
            ]
          },
          "metadata": {},
          "execution_count": 35
        }
      ]
    },
    {
      "cell_type": "code",
      "execution_count": null,
      "metadata": {
        "id": "C2yySPCXt1fY"
      },
      "outputs": [],
      "source": [
        "#Independent vars. Don't forget to also consider int column\n",
        "# X = np.asarray(df[['Person', 'Income', 'Sex', 'int']])\n",
        "X = np.asarray(df[['Income', 'int']])"
      ]
    },
    {
      "cell_type": "code",
      "execution_count": null,
      "metadata": {
        "id": "D2lGzWlrt1fZ"
      },
      "outputs": [],
      "source": [
        "#Dependent vars\n",
        "y = np.asarray(df['Buy'])"
      ]
    },
    {
      "cell_type": "markdown",
      "metadata": {
        "id": "gjfV27y1t1fZ"
      },
      "source": [
        "Double-click **here** for the solution.\n",
        "\n",
        "<!-- Your answer is below:\n",
        "    \n",
        "X = np.asarray(df[['Income', 'int']])\n",
        "y = np.asarray(df['Buy'])\n",
        "\n",
        "-->"
      ]
    },
    {
      "cell_type": "markdown",
      "metadata": {
        "id": "d7OIF3vqt1fZ"
      },
      "source": [
        "Note: Also, usually we want to do some pre-processing with our data and normalize it. Then we usually divide it into test-train-cv sets, etc. **Here we do not do this to keep things simple**."
      ]
    },
    {
      "cell_type": "markdown",
      "metadata": {
        "id": "ufZ7eYFHt1fZ"
      },
      "source": [
        "## Modeling. Creating Logistic Regression\n",
        "\n",
        "### Tasks 2 and 3\n",
        "\n",
        "Phew, finally, having all the data ready, we can use scikit-learn to built the Logistic Regression itself!\n",
        "It is highly advised that you go into [the documentation of the Logistic Regression](https://scikit-learn.org/stable/modules/generated/sklearn.linear_model.LogisticRegression.html) and give it a read.\n",
        "When you are done --> import it!"
      ]
    },
    {
      "cell_type": "code",
      "execution_count": null,
      "metadata": {
        "id": "UUtTjwo4t1fZ"
      },
      "outputs": [],
      "source": [
        "#import the Logistic Regression\n",
        "from sklearn.linear_model import LogisticRegression"
      ]
    },
    {
      "cell_type": "markdown",
      "metadata": {
        "id": "9WFhp8Pxt1fZ"
      },
      "source": [
        "Double-click **here** for the solution.\n",
        "\n",
        "<!-- Your answer is below:\n",
        "    \n",
        "from sklearn.linear_model import LogisticRegression\n",
        "\n",
        "-->"
      ]
    },
    {
      "cell_type": "markdown",
      "metadata": {
        "id": "P3mR8KRDt1fZ"
      },
      "source": [
        "Now let's create a Logistic Regression object. You can give it any name, but the defualt one we are going to use will be `logreg`.\n",
        "\n",
        "<div class=\"alert alert-block alert-danger\">\n",
        "    <b>You need to pass the following paramaters to logreg if you are using scikit-learn:\n",
        "        <ul>C=1e9</ul>\n",
        "        <ul>fit_intercept=False</ul>\n",
        "    </b>\n",
        "</div>"
      ]
    },
    {
      "cell_type": "code",
      "execution_count": null,
      "metadata": {
        "id": "-cIrLExAt1fa"
      },
      "outputs": [],
      "source": [
        "#create the Logistic Regression object and assign it to the variable logreg\n",
        "logreg = LogisticRegression(C=1e9, fit_intercept=False)"
      ]
    },
    {
      "cell_type": "markdown",
      "metadata": {
        "id": "W-ZvqVx4t1fa"
      },
      "source": [
        "Double-click **here** for the solution.\n",
        "\n",
        "<!-- Your answer is below:\n",
        "    \n",
        "logreg = LogisticRegression(C=1e9, fit_intercept=False)\n",
        "\n",
        "-->"
      ]
    },
    {
      "cell_type": "markdown",
      "metadata": {
        "id": "jeBfIhYut1fb"
      },
      "source": [
        "Now *fit* our model according to the training data using the appropriate method of the Logistic Regression. Refer to [the documentation](https://scikit-learn.org/stable/modules/generated/sklearn.linear_model.LogisticRegression.html) if needed."
      ]
    },
    {
      "cell_type": "code",
      "execution_count": null,
      "metadata": {
        "id": "C3gYtraWt1fd",
        "colab": {
          "base_uri": "https://localhost:8080/"
        },
        "outputId": "398b1322-1cd9-4b53-8aa7-fc495154068b"
      },
      "outputs": [
        {
          "output_type": "execute_result",
          "data": {
            "text/plain": [
              "LogisticRegression(C=1000000000.0, fit_intercept=False)"
            ]
          },
          "metadata": {},
          "execution_count": 49
        }
      ],
      "source": [
        "#YOUR CODE HERE\n",
        "logreg.fit(X,y)"
      ]
    },
    {
      "cell_type": "markdown",
      "metadata": {
        "id": "saJupaNHt1fd"
      },
      "source": [
        "Double-click **here** for a **HINT**.\n",
        "\n",
        "<!-- Your answer is below:\n",
        "    \n",
        "Have a look at the `fit()` method. (https://scikit-learn.org/stable/modules/generated/sklearn.linear_model.LogisticRegression.html#sklearn.linear_model.LogisticRegression.fit)\n",
        "\n",
        "-->"
      ]
    },
    {
      "cell_type": "markdown",
      "metadata": {
        "id": "a9HYYHzgt1fd"
      },
      "source": [
        "---------------------------"
      ]
    },
    {
      "cell_type": "markdown",
      "metadata": {
        "id": "sNiGRohHt1fd"
      },
      "source": [
        "Double-click **here** for the solution.\n",
        "\n",
        "<!-- Your answer is below:\n",
        "    \n",
        "logreg.fit(X, y)\n",
        "\n",
        "-->"
      ]
    },
    {
      "cell_type": "markdown",
      "metadata": {
        "id": "Ch9IHbyct1fe"
      },
      "source": [
        "Having our model trained we can now do some *predictions*! Create a new variable `y_pred` which will hold an array of our predicted labels. Obviously, you would also need to creat that array with *predictions* and assign it to `y_pred`.\n",
        "Perhaps, you can find more answers in the documentation ;)"
      ]
    },
    {
      "cell_type": "code",
      "execution_count": null,
      "metadata": {
        "id": "ZZwrYdn_t1fe"
      },
      "outputs": [],
      "source": [
        "#YOUR CODE HERE\n",
        "y_pred = logreg.predict(X)"
      ]
    },
    {
      "cell_type": "markdown",
      "metadata": {
        "id": "1pTFzbz-t1fe"
      },
      "source": [
        "Double-click **here** for a **HINT**.\n",
        "\n",
        "<!-- Your answer is below:\n",
        "    \n",
        "Have a look at the `predict()` method. (https://scikit-learn.org/stable/modules/generated/sklearn.linear_model.LogisticRegression.html#sklearn.linear_model.LogisticRegression.predict)\n",
        "\n",
        "-->"
      ]
    },
    {
      "cell_type": "markdown",
      "metadata": {
        "id": "5YQwxUKct1fe"
      },
      "source": [
        "-----------------------"
      ]
    },
    {
      "cell_type": "markdown",
      "metadata": {
        "id": "kZYSA2vot1fe"
      },
      "source": [
        "Double-click **here** for the solution.\n",
        "\n",
        "<!-- Your answer is below:\n",
        "    \n",
        "y_pred = logreg.predict(X)\n",
        "\n",
        "-->"
      ]
    },
    {
      "cell_type": "markdown",
      "metadata": {
        "id": "P0BhhyUZt1fe"
      },
      "source": [
        "#### Task 2"
      ]
    },
    {
      "cell_type": "markdown",
      "metadata": {
        "id": "AmyF66T0t1fe"
      },
      "source": [
        "Now, using the attributes of Logistic Regression scikit-learn object you should be able to see its coefficients.\n",
        "Look for the appropriate attribute in [the documentation](https://scikit-learn.org/stable/modules/generated/sklearn.linear_model.LogisticRegression.html)."
      ]
    },
    {
      "cell_type": "code",
      "execution_count": null,
      "metadata": {
        "id": "7OjWjjk_t1fg",
        "colab": {
          "base_uri": "https://localhost:8080/"
        },
        "outputId": "6bad8a24-6544-4b26-91fd-fe81179dee6f"
      },
      "outputs": [
        {
          "output_type": "stream",
          "name": "stdout",
          "text": [
            "The intercept is -3.671 and the coefficient is: b1=1.827.\n"
          ]
        }
      ],
      "source": [
        "#print the coefficients here\n",
        "#print(logreg.coef_.T)\n",
        "print(f\"The intercept is {round(logreg.coef_[0][1],3)} and the coefficient is: b1={round(logreg.coef_[0][0],3)}.\")"
      ]
    },
    {
      "cell_type": "markdown",
      "metadata": {
        "id": "ebxI_MaEt1fg"
      },
      "source": [
        "Double-click **here** for the solution.\n",
        "\n",
        "<!-- Your answer is below:\n",
        "    \n",
        "logreg.coef_.T\n",
        "\n",
        "Or a fancier way is:\n",
        "\n",
        "print(f\"The intercept is {round(logreg.coef_[0][1],3)} and the coefficient is: b1={round(logreg.coef_[0][0],3)}.\")\n",
        "\n",
        "-->"
      ]
    },
    {
      "cell_type": "markdown",
      "metadata": {
        "id": "ePdQTLgkt1fg"
      },
      "source": [
        "#### Task 3"
      ]
    },
    {
      "cell_type": "markdown",
      "metadata": {
        "id": "zZBPHXvyt1fg"
      },
      "source": [
        "Use the [`seaborn.regplot`](https://seaborn.pydata.org/generated/seaborn.regplot.html) to visualize the data and *estimated* Logistic Regression curve.\n",
        "\n",
        "**NOTE:** You are visualizing the data you have, not the model you just made. Make sure to fill in x and y values correctly.\n",
        "\n",
        "As we are dealing with the Logistic Regression, make sure you have `logistic=True` in your regplot."
      ]
    },
    {
      "cell_type": "code",
      "execution_count": null,
      "metadata": {
        "id": "DLIrstt6t1fh",
        "colab": {
          "base_uri": "https://localhost:8080/",
          "height": 296
        },
        "outputId": "cf1cfcc0-c173-460f-dbae-d5da763e73f3"
      },
      "outputs": [
        {
          "output_type": "execute_result",
          "data": {
            "text/plain": [
              "<matplotlib.axes._subplots.AxesSubplot at 0x7ff9115e3a50>"
            ]
          },
          "metadata": {},
          "execution_count": 58
        },
        {
          "output_type": "display_data",
          "data": {
            "text/plain": [
              "<Figure size 432x288 with 1 Axes>"
            ],
            "image/png": "[encoded data removed]"
          },
          "metadata": {
            "needs_background": "light"
          }
        }
      ],
      "source": [
        "#YOUR REGPLOT HERE - just taking 2 values\n",
        "sns.regplot(x = 'Income', y = 'Buy', data = df, logistic = True)"
      ]
    },
    {
      "cell_type": "markdown",
      "metadata": {
        "id": "3vEsqOcEt1fi"
      },
      "source": [
        "Double-click **here** for the solution.\n",
        "\n",
        "<!-- Your answer is below:\n",
        "    \n",
        "sns.regplot(x='Income', y='Buy', data=df, logistic=True)\n",
        "plt.xlim(1, 4)\n",
        "\n",
        "-->"
      ]
    },
    {
      "cell_type": "markdown",
      "metadata": {
        "id": "qwXVHkTGt1fj"
      },
      "source": [
        "## Estimating probabilities\n",
        "\n",
        "### Task 4\n",
        "\n",
        "Next, we want to see the decision process of our model. We know that the decision threshold is set by default to 0.5 which mean that predicted probabilities lower than the threshold would result in a label of 0. On the other hands, probabilities above 0.5 would result in a label of 1.\n",
        "\n",
        "Your task is to find this probabilities, display them as an array and, finally, create a copy of an initial dataframe and add the estimated probabilities to it along with the predicted labels.\n",
        "\n",
        "As always, [Logistic Regression scikit-learn documentation](https://scikit-learn.org/stable/modules/generated/sklearn.linear_model.LogisticRegression.html) might be helpful!\n",
        "\n",
        "TIP: If you use a clever way to get estimated probabilities, make sure to select the second column of the array which indicates the probability of the labels being equal to 1. Use slicing for this.\n",
        "\n",
        "TIP 2: use [`pandas.DataFrame.copy`](https://pandas.pydata.org/docs/reference/api/pandas.DataFrame.copy.html) to create a copy of an initial dataframe `df`. Make sure to [drop the column `int`](https://pandas.pydata.org/pandas-docs/stable/reference/api/pandas.DataFrame.drop.html) from it for now."
      ]
    },
    {
      "cell_type": "code",
      "execution_count": null,
      "metadata": {
        "id": "7rkdY6LGt1fj",
        "colab": {
          "base_uri": "https://localhost:8080/"
        },
        "outputId": "b813a9fc-0592-479b-eeb7-8d01d287c8e9"
      },
      "outputs": [
        {
          "output_type": "execute_result",
          "data": {
            "text/plain": [
              "array([0.72152117, 0.65918688, 0.78569722, 0.72517757, 0.89809385,\n",
              "       0.84568599, 0.89809385, 0.78569722, 0.84328643, 0.65918688,\n",
              "       0.60399544, 0.45491664, 0.55054693, 0.41897123, 0.45945103,\n",
              "       0.50047306, 0.50047306, 0.59961693, 0.41452998, 0.54602164,\n",
              "       0.38386588, 0.26834214, 0.3254197 , 0.30958467, 0.23730801,\n",
              "       0.25078902, 0.28665377, 0.38386588, 0.3540982 , 0.32944345])"
            ]
          },
          "metadata": {},
          "execution_count": 76
        }
      ],
      "source": [
        "#create an array of predicted probabilities\n",
        "logreg.predict_proba(X)[:,1]\n",
        "\n",
        "'''\n",
        "- Predict_proba = returns the probability estimates only\n",
        "- Predict_log_proba = returns the logarithmic of the probability estimates\n",
        "'''"
      ]
    },
    {
      "cell_type": "markdown",
      "metadata": {
        "id": "oXB0I6ZTt1fj"
      },
      "source": [
        "Double-click **here** for a **HINT**.\n",
        "\n",
        "<!-- Your answer is below:\n",
        "    \n",
        "Have a look at the `predict_proba()` method. (https://scikit-learn.org/stable/modules/generated/sklearn.linear_model.LogisticRegression.html#sklearn.linear_model.LogisticRegression.predict_proba)\n",
        "\n",
        "-->"
      ]
    },
    {
      "cell_type": "markdown",
      "metadata": {
        "id": "IpGRE97wt1fk"
      },
      "source": [
        "----------------------"
      ]
    },
    {
      "cell_type": "markdown",
      "metadata": {
        "id": "wLC394Xqt1fk"
      },
      "source": [
        "Double-click **here** for the solution.\n",
        "\n",
        "<!-- Your answer is below:\n",
        "    \n",
        "logreg.predict_proba(X)[:,1]\n",
        "\n",
        "-->"
      ]
    },
    {
      "cell_type": "code",
      "execution_count": null,
      "metadata": {
        "id": "_ESLmygGt1fk",
        "colab": {
          "base_uri": "https://localhost:8080/",
          "height": 206
        },
        "outputId": "5197b75d-6d74-416d-b79a-293687ed2ee6"
      },
      "outputs": [
        {
          "output_type": "execute_result",
          "data": {
            "text/plain": [
              "   Person  Income  Sex  Buy\n",
              "0       1    2.53    0    1\n",
              "1       2    2.37    1    0\n",
              "2       3    2.72    1    1\n",
              "3       4    2.54    0    0\n",
              "4       5    3.20    1    1"
            ],
            "text/html": [
              "\n",
              "  <div id=\"df-00fc823c-6166-4d82-9fd5-53ecad5d8075\">\n",
              "    <div class=\"colab-df-container\">\n",
              "      <div>\n",
              "<style scoped>\n",
              "    .dataframe tbody tr th:only-of-type {\n",
              "        vertical-align: middle;\n",
              "    }\n",
              "\n",
              "    .dataframe tbody tr th {\n",
              "        vertical-align: top;\n",
              "    }\n",
              "\n",
              "    .dataframe thead th {\n",
              "        text-align: right;\n",
              "    }\n",
              "</style>\n",
              "<table border=\"1\" class=\"dataframe\">\n",
              "  <thead>\n",
              "    <tr style=\"text-align: right;\">\n",
              "      <th></th>\n",
              "      <th>Person</th>\n",
              "      <th>Income</th>\n",
              "      <th>Sex</th>\n",
              "      <th>Buy</th>\n",
              "    </tr>\n",
              "  </thead>\n",
              "  <tbody>\n",
              "    <tr>\n",
              "      <th>0</th>\n",
              "      <td>1</td>\n",
              "      <td>2.53</td>\n",
              "      <td>0</td>\n",
              "      <td>1</td>\n",
              "    </tr>\n",
              "    <tr>\n",
              "      <th>1</th>\n",
              "      <td>2</td>\n",
              "      <td>2.37</td>\n",
              "      <td>1</td>\n",
              "      <td>0</td>\n",
              "    </tr>\n",
              "    <tr>\n",
              "      <th>2</th>\n",
              "      <td>3</td>\n",
              "      <td>2.72</td>\n",
              "      <td>1</td>\n",
              "      <td>1</td>\n",
              "    </tr>\n",
              "    <tr>\n",
              "      <th>3</th>\n",
              "      <td>4</td>\n",
              "      <td>2.54</td>\n",
              "      <td>0</td>\n",
              "      <td>0</td>\n",
              "    </tr>\n",
              "    <tr>\n",
              "      <th>4</th>\n",
              "      <td>5</td>\n",
              "      <td>3.20</td>\n",
              "      <td>1</td>\n",
              "      <td>1</td>\n",
              "    </tr>\n",
              "  </tbody>\n",
              "</table>\n",
              "</div>\n",
              "      <button class=\"colab-df-convert\" onclick=\"convertToInteractive('df-00fc823c-6166-4d82-9fd5-53ecad5d8075')\"\n",
              "              title=\"Convert this dataframe to an interactive table.\"\n",
              "              style=\"display:none;\">\n",
              "        \n",
              "  <svg xmlns=\"http://www.w3.org/2000/svg\" height=\"24px\"viewBox=\"0 0 24 24\"\n",
              "       width=\"24px\">\n",
              "    <path d=\"M0 0h24v24H0V0z\" fill=\"none\"/>\n",
              "    <path d=\"M18.56 5.44l.94 2.06.94-2.06 2.06-.94-2.06-.94-.94-2.06-.94 2.06-2.06.94zm-11 1L8.5 8.5l.94-2.06 2.06-.94-2.06-.94L8.5 2.5l-.94 2.06-2.06.94zm10 10l.94 2.06.94-2.06 2.06-.94-2.06-.94-.94-2.06-.94 2.06-2.06.94z\"/><path d=\"M17.41 7.96l-1.37-1.37c-.4-.4-.92-.59-1.43-.59-.52 0-1.04.2-1.43.59L10.3 9.45l-7.72 7.72c-.78.78-.78 2.05 0 2.83L4 21.41c.39.39.9.59 1.41.59.51 0 1.02-.2 1.41-.59l7.78-7.78 2.81-2.81c.8-.78.8-2.07 0-2.86zM5.41 20L4 18.59l7.72-7.72 1.47 1.35L5.41 20z\"/>\n",
              "  </svg>\n",
              "      </button>\n",
              "      \n",
              "  <style>\n",
              "    .colab-df-container {\n",
              "      display:flex;\n",
              "      flex-wrap:wrap;\n",
              "      gap: 12px;\n",
              "    }\n",
              "\n",
              "    .colab-df-convert {\n",
              "      background-color: #E8F0FE;\n",
              "      border: none;\n",
              "      border-radius: 50%;\n",
              "      cursor: pointer;\n",
              "      display: none;\n",
              "      fill: #1967D2;\n",
              "      height: 32px;\n",
              "      padding: 0 0 0 0;\n",
              "      width: 32px;\n",
              "    }\n",
              "\n",
              "    .colab-df-convert:hover {\n",
              "      background-color: #E2EBFA;\n",
              "      box-shadow: 0px 1px 2px rgba(60, 64, 67, 0.3), 0px 1px 3px 1px rgba(60, 64, 67, 0.15);\n",
              "      fill: #174EA6;\n",
              "    }\n",
              "\n",
              "    [theme=dark] .colab-df-convert {\n",
              "      background-color: #3B4455;\n",
              "      fill: #D2E3FC;\n",
              "    }\n",
              "\n",
              "    [theme=dark] .colab-df-convert:hover {\n",
              "      background-color: #434B5C;\n",
              "      box-shadow: 0px 1px 3px 1px rgba(0, 0, 0, 0.15);\n",
              "      filter: drop-shadow(0px 1px 2px rgba(0, 0, 0, 0.3));\n",
              "      fill: #FFFFFF;\n",
              "    }\n",
              "  </style>\n",
              "\n",
              "      <script>\n",
              "        const buttonEl =\n",
              "          document.querySelector('#df-00fc823c-6166-4d82-9fd5-53ecad5d8075 button.colab-df-convert');\n",
              "        buttonEl.style.display =\n",
              "          google.colab.kernel.accessAllowed ? 'block' : 'none';\n",
              "\n",
              "        async function convertToInteractive(key) {\n",
              "          const element = document.querySelector('#df-00fc823c-6166-4d82-9fd5-53ecad5d8075');\n",
              "          const dataTable =\n",
              "            await google.colab.kernel.invokeFunction('convertToInteractive',\n",
              "                                                     [key], {});\n",
              "          if (!dataTable) return;\n",
              "\n",
              "          const docLinkHtml = 'Like what you see? Visit the ' +\n",
              "            '<a target=\"_blank\" href=https://colab.research.google.com/notebooks/data_table.ipynb>data table notebook</a>'\n",
              "            + ' to learn more about interactive tables.';\n",
              "          element.innerHTML = '';\n",
              "          dataTable['output_type'] = 'display_data';\n",
              "          await google.colab.output.renderOutput(dataTable, element);\n",
              "          const docLink = document.createElement('div');\n",
              "          docLink.innerHTML = docLinkHtml;\n",
              "          element.appendChild(docLink);\n",
              "        }\n",
              "      </script>\n",
              "    </div>\n",
              "  </div>\n",
              "  "
            ]
          },
          "metadata": {},
          "execution_count": 65
        }
      ],
      "source": [
        "#Create a copy of an array df and call it however you want. we will assume you called it vf for the sake of simplicity\n",
        "vf = df.copy()\n",
        "vf.drop(['int'], axis=1, inplace=True)\n",
        "vf.head()"
      ]
    },
    {
      "cell_type": "markdown",
      "metadata": {
        "id": "Szq87O9xt1fk"
      },
      "source": [
        "Double-click **here** for the solution.\n",
        "\n",
        "<!-- Your answer is below:\n",
        "    \n",
        "vf = df.copy()\n",
        "vf.drop(['int'], axis=1, inplace=True)\n",
        "vf.head()\n",
        "\n",
        "-->"
      ]
    },
    {
      "cell_type": "markdown",
      "metadata": {
        "id": "FKMeIAZzt1fl"
      },
      "source": [
        "Now add the estimated probabilities and labels to this copy. We suggest you call columns `Estimate` and `Forecast` respectively."
      ]
    },
    {
      "cell_type": "code",
      "execution_count": null,
      "metadata": {
        "id": "sUab_1r0t1fl",
        "colab": {
          "base_uri": "https://localhost:8080/",
          "height": 206
        },
        "outputId": "5a5edff0-64a4-429f-ae1a-18221ebd6359"
      },
      "outputs": [
        {
          "output_type": "execute_result",
          "data": {
            "text/plain": [
              "   Person  Income  Sex  Buy  Estimate  Forecast\n",
              "0       1    2.53    0    1  0.721521       1.0\n",
              "1       2    2.37    1    0  0.659187       1.0\n",
              "2       3    2.72    1    1  0.785697       1.0\n",
              "3       4    2.54    0    0  0.725178       1.0\n",
              "4       5    3.20    1    1  0.898094       1.0"
            ],
            "text/html": [
              "\n",
              "  <div id=\"df-e53337fa-63d5-429e-bd67-20580f16abb0\">\n",
              "    <div class=\"colab-df-container\">\n",
              "      <div>\n",
              "<style scoped>\n",
              "    .dataframe tbody tr th:only-of-type {\n",
              "        vertical-align: middle;\n",
              "    }\n",
              "\n",
              "    .dataframe tbody tr th {\n",
              "        vertical-align: top;\n",
              "    }\n",
              "\n",
              "    .dataframe thead th {\n",
              "        text-align: right;\n",
              "    }\n",
              "</style>\n",
              "<table border=\"1\" class=\"dataframe\">\n",
              "  <thead>\n",
              "    <tr style=\"text-align: right;\">\n",
              "      <th></th>\n",
              "      <th>Person</th>\n",
              "      <th>Income</th>\n",
              "      <th>Sex</th>\n",
              "      <th>Buy</th>\n",
              "      <th>Estimate</th>\n",
              "      <th>Forecast</th>\n",
              "    </tr>\n",
              "  </thead>\n",
              "  <tbody>\n",
              "    <tr>\n",
              "      <th>0</th>\n",
              "      <td>1</td>\n",
              "      <td>2.53</td>\n",
              "      <td>0</td>\n",
              "      <td>1</td>\n",
              "      <td>0.721521</td>\n",
              "      <td>1.0</td>\n",
              "    </tr>\n",
              "    <tr>\n",
              "      <th>1</th>\n",
              "      <td>2</td>\n",
              "      <td>2.37</td>\n",
              "      <td>1</td>\n",
              "      <td>0</td>\n",
              "      <td>0.659187</td>\n",
              "      <td>1.0</td>\n",
              "    </tr>\n",
              "    <tr>\n",
              "      <th>2</th>\n",
              "      <td>3</td>\n",
              "      <td>2.72</td>\n",
              "      <td>1</td>\n",
              "      <td>1</td>\n",
              "      <td>0.785697</td>\n",
              "      <td>1.0</td>\n",
              "    </tr>\n",
              "    <tr>\n",
              "      <th>3</th>\n",
              "      <td>4</td>\n",
              "      <td>2.54</td>\n",
              "      <td>0</td>\n",
              "      <td>0</td>\n",
              "      <td>0.725178</td>\n",
              "      <td>1.0</td>\n",
              "    </tr>\n",
              "    <tr>\n",
              "      <th>4</th>\n",
              "      <td>5</td>\n",
              "      <td>3.20</td>\n",
              "      <td>1</td>\n",
              "      <td>1</td>\n",
              "      <td>0.898094</td>\n",
              "      <td>1.0</td>\n",
              "    </tr>\n",
              "  </tbody>\n",
              "</table>\n",
              "</div>\n",
              "      <button class=\"colab-df-convert\" onclick=\"convertToInteractive('df-e53337fa-63d5-429e-bd67-20580f16abb0')\"\n",
              "              title=\"Convert this dataframe to an interactive table.\"\n",
              "              style=\"display:none;\">\n",
              "        \n",
              "  <svg xmlns=\"http://www.w3.org/2000/svg\" height=\"24px\"viewBox=\"0 0 24 24\"\n",
              "       width=\"24px\">\n",
              "    <path d=\"M0 0h24v24H0V0z\" fill=\"none\"/>\n",
              "    <path d=\"M18.56 5.44l.94 2.06.94-2.06 2.06-.94-2.06-.94-.94-2.06-.94 2.06-2.06.94zm-11 1L8.5 8.5l.94-2.06 2.06-.94-2.06-.94L8.5 2.5l-.94 2.06-2.06.94zm10 10l.94 2.06.94-2.06 2.06-.94-2.06-.94-.94-2.06-.94 2.06-2.06.94z\"/><path d=\"M17.41 7.96l-1.37-1.37c-.4-.4-.92-.59-1.43-.59-.52 0-1.04.2-1.43.59L10.3 9.45l-7.72 7.72c-.78.78-.78 2.05 0 2.83L4 21.41c.39.39.9.59 1.41.59.51 0 1.02-.2 1.41-.59l7.78-7.78 2.81-2.81c.8-.78.8-2.07 0-2.86zM5.41 20L4 18.59l7.72-7.72 1.47 1.35L5.41 20z\"/>\n",
              "  </svg>\n",
              "      </button>\n",
              "      \n",
              "  <style>\n",
              "    .colab-df-container {\n",
              "      display:flex;\n",
              "      flex-wrap:wrap;\n",
              "      gap: 12px;\n",
              "    }\n",
              "\n",
              "    .colab-df-convert {\n",
              "      background-color: #E8F0FE;\n",
              "      border: none;\n",
              "      border-radius: 50%;\n",
              "      cursor: pointer;\n",
              "      display: none;\n",
              "      fill: #1967D2;\n",
              "      height: 32px;\n",
              "      padding: 0 0 0 0;\n",
              "      width: 32px;\n",
              "    }\n",
              "\n",
              "    .colab-df-convert:hover {\n",
              "      background-color: #E2EBFA;\n",
              "      box-shadow: 0px 1px 2px rgba(60, 64, 67, 0.3), 0px 1px 3px 1px rgba(60, 64, 67, 0.15);\n",
              "      fill: #174EA6;\n",
              "    }\n",
              "\n",
              "    [theme=dark] .colab-df-convert {\n",
              "      background-color: #3B4455;\n",
              "      fill: #D2E3FC;\n",
              "    }\n",
              "\n",
              "    [theme=dark] .colab-df-convert:hover {\n",
              "      background-color: #434B5C;\n",
              "      box-shadow: 0px 1px 3px 1px rgba(0, 0, 0, 0.15);\n",
              "      filter: drop-shadow(0px 1px 2px rgba(0, 0, 0, 0.3));\n",
              "      fill: #FFFFFF;\n",
              "    }\n",
              "  </style>\n",
              "\n",
              "      <script>\n",
              "        const buttonEl =\n",
              "          document.querySelector('#df-e53337fa-63d5-429e-bd67-20580f16abb0 button.colab-df-convert');\n",
              "        buttonEl.style.display =\n",
              "          google.colab.kernel.accessAllowed ? 'block' : 'none';\n",
              "\n",
              "        async function convertToInteractive(key) {\n",
              "          const element = document.querySelector('#df-e53337fa-63d5-429e-bd67-20580f16abb0');\n",
              "          const dataTable =\n",
              "            await google.colab.kernel.invokeFunction('convertToInteractive',\n",
              "                                                     [key], {});\n",
              "          if (!dataTable) return;\n",
              "\n",
              "          const docLinkHtml = 'Like what you see? Visit the ' +\n",
              "            '<a target=\"_blank\" href=https://colab.research.google.com/notebooks/data_table.ipynb>data table notebook</a>'\n",
              "            + ' to learn more about interactive tables.';\n",
              "          element.innerHTML = '';\n",
              "          dataTable['output_type'] = 'display_data';\n",
              "          await google.colab.output.renderOutput(dataTable, element);\n",
              "          const docLink = document.createElement('div');\n",
              "          docLink.innerHTML = docLinkHtml;\n",
              "          element.appendChild(docLink);\n",
              "        }\n",
              "      </script>\n",
              "    </div>\n",
              "  </div>\n",
              "  "
            ]
          },
          "metadata": {},
          "execution_count": 77
        }
      ],
      "source": [
        "#YOUR CODE HERE\n",
        "vf['Estimate'] = logreg.predict_proba(X)[:,1]\n",
        "vf['Forecast'] = round(vf['Estimate'])\n",
        "vf.head()"
      ]
    },
    {
      "cell_type": "markdown",
      "metadata": {
        "id": "pLuJNlxvt1fl"
      },
      "source": [
        "You should get a dataframe which looks like this when you use `.head()`.\n",
        "\n",
        "|   Person |   Income |   Sex |   Buy |   Estimate |   Forecast |\n",
        "|---------:|---------:|------:|------:|-----------:|-----------:|\n",
        "|        1 |     2.53 |     0 |     1 |   0.721521 |          1 |\n",
        "|        2 |     2.37 |     1 |     0 |   0.659187 |          1 |\n",
        "|        3 |     2.72 |     1 |     1 |   0.785697 |          1 |\n",
        "|        4 |     2.54 |     0 |     0 |   0.725178 |          1 |\n",
        "|        5 |     3.2  |     1 |     1 |   0.898094 |          1 |"
      ]
    },
    {
      "cell_type": "markdown",
      "metadata": {
        "id": "l7DUUYX3t1fl"
      },
      "source": [
        "## CM\n",
        "\n",
        "### Tasks 5 and 6"
      ]
    },
    {
      "cell_type": "markdown",
      "metadata": {
        "id": "qWb7LpLft1fl"
      },
      "source": [
        "Having this dataframe you should be able to fill the table below with your own values. The table is in Markdown, so to edit it you would need to double-click it and after changes are done -- just run the cell.\n",
        "\n",
        "Refer to [this link](https://en.wikipedia.org/wiki/Sensitivity_and_specificity) if needed to get the idea what TNR, TPR and Accuracy are.\n",
        "\n",
        "Naturally, you can manually calculate the values for this table, but there are ways to do it smarter. We encourage you to think about it on your own.\n",
        "\n",
        "**HINT:** One of the ways is to use dataframe filtering and `len()` function.\n",
        "\n",
        "**HINT 2:** `pandas` can perform a lot of operations on the dataframe like `.sum()`, `.mean()`, as well as many common mathematical operations etc. Search the documentation for what you might need.\n",
        "\n",
        "**HINT 3:** `.loc()` and `.iloc()` methods can come really handy."
      ]
    },
    {
      "cell_type": "markdown",
      "metadata": {
        "id": "AMGL8do8t1fm"
      },
      "source": [
        "| Group | 0=NB Forescast | 1=Buy Forecast | Total | Percentage of correct prognoses | Measures                 |\n",
        "|-------|----------------|----------------|-------|---------------------------------|--------------------------|\n",
        "| 0=NB  |                |                |       |                                 | True Negative Rate (TNR) |\n",
        "| 1=Buy |                |                |       |                                 | True Positive Rate (TPR) |\n",
        "| Total |                |                |       |                                 | Accuracy                 |"
      ]
    },
    {
      "cell_type": "code",
      "execution_count": null,
      "metadata": {
        "id": "6puxnPA4t1fm",
        "colab": {
          "base_uri": "https://localhost:8080/"
        },
        "outputId": "1ebdab89-831a-4b21-9d82-91b855526a20"
      },
      "outputs": [
        {
          "output_type": "stream",
          "name": "stdout",
          "text": [
            "[[7 7]\n",
            " [7 9]]\n",
            "\n",
            "              precision    recall  f1-score   support\n",
            "\n",
            "           0       0.50      0.50      0.50        14\n",
            "           1       0.56      0.56      0.56        16\n",
            "\n",
            "    accuracy                           0.53        30\n",
            "   macro avg       0.53      0.53      0.53        30\n",
            "weighted avg       0.53      0.53      0.53        30\n",
            "\n"
          ]
        }
      ],
      "source": [
        "#YOUR CODE HERE \n",
        "'''\n",
        "AUC: Area Under the Curve \n",
        "true positive (TP): A test result that correctly indicates the presence of a condition or characteristic\n",
        "true negative (TN): A test result that correctly indicates the absence of a condition or characteristic\n",
        "false positive (FP): A test result which wrongly indicates that a particular condition or attribute is present\n",
        "false negative (FN): A test result which wrongly indicates that a particular condition or attribute is absent\n",
        "true negative rate (TNR):\n",
        "true positive rate (TPR):\n",
        "Accuracy (ACC)'''\n",
        "\n",
        "df = pd.DataFrame(columns = ['Group', '0=NB Forescast', '1=Buy Forecast','Total', 'Percentage of correct prognoses', 'Measures'])\n"
      ]
    },
    {
      "cell_type": "code",
      "source": [
        "from sklearn.metrics import confusion_matrix  #to create a rough confusion matrix\n",
        "from sklearn.metrics import classification_report #to get a nice-looking report with everything in it \n",
        "\n",
        "print(confusion_matrix(y, y_pred))\n",
        "print()\n",
        "print(classification_report(y, y_pred))"
      ],
      "metadata": {
        "id": "dT5j595JrYQE",
        "outputId": "4a27594d-01e2-4f57-d3f1-fdeea5ff6ec6",
        "colab": {
          "base_uri": "https://localhost:8080/"
        }
      },
      "execution_count": null,
      "outputs": [
        {
          "output_type": "stream",
          "name": "stdout",
          "text": [
            "[[7 7]\n",
            " [7 9]]\n",
            "\n",
            "              precision    recall  f1-score   support\n",
            "\n",
            "           0       0.50      0.50      0.50        14\n",
            "           1       0.56      0.56      0.56        16\n",
            "\n",
            "    accuracy                           0.53        30\n",
            "   macro avg       0.53      0.53      0.53        30\n",
            "weighted avg       0.53      0.53      0.53        30\n",
            "\n"
          ]
        }
      ]
    },
    {
      "cell_type": "markdown",
      "metadata": {
        "id": "czWRmpi4t1fm"
      },
      "source": [
        "Double-click **here** for a **HINT** on mathematics behind this.\n",
        "\n",
        "<!-- You can use the following table to get a hint on how to calculate the values. Just paste this table into a Markdown cell and run it:\n",
        "    \n",
        "| Group | 0=NB Forescast | 1=Buy Forecast | Total | Percentage of correct prognoses | Measures                 |\n",
        "|-------|----------------|----------------|-------|---------------------------------|--------------------------|\n",
        "| 0=NB  |       n00      |       n01      |   n0  |              n00/n0             | True Negative Rate (TNR) |\n",
        "| 1=Buy |       n10      |       n11      |   n1  |              n11/n1             | True Positive Rate (TPR) |\n",
        "| Total |                |                |   n   |           (n00+n11)/n           | Accuracy                 |\n",
        "\n",
        "-->"
      ]
    },
    {
      "cell_type": "markdown",
      "metadata": {
        "id": "Mqri_s2At1fn"
      },
      "source": [
        "Double-click **here** for a **HINT** on a long, but straightforward coding approach.\n",
        "\n",
        "<!-- Your answer is below. This way it filters the dataframe where both values in the 'Buy' and 'Forecast' columns are equal to zero. Just play with numbers to make it work for you.\n",
        "    \n",
        "len(vf[(vf[\"Buy\"]==0) & (vf[\"Forecast\"]==0)]\n",
        "\n",
        "-->"
      ]
    },
    {
      "cell_type": "markdown",
      "metadata": {
        "id": "hRyM2tbAt1fo"
      },
      "source": [
        "Double-click **here** for a **HINT** regarding smarter approach.\n",
        "\n",
        "<!-- Your answer is below:\n",
        "\n",
        "Perhaps scikit-learn has some metrics (https://scikit-learn.org/stable/modules/classes.html?highlight=metrics#module-sklearn.metrics) that could help you?\n",
        "\n",
        "-->"
      ]
    },
    {
      "cell_type": "markdown",
      "metadata": {
        "id": "Sj_cw7gut1fo"
      },
      "source": [
        "---------------------------"
      ]
    },
    {
      "cell_type": "markdown",
      "metadata": {
        "id": "nx4nL60dt1fo"
      },
      "source": [
        "Double-click **here** for the smart solution.\n",
        "\n",
        "<!-- Your answer is below:\n",
        "    \n",
        "from sklearn.metrics import confusion_matrix  #to create a rough confusion matrix\n",
        "from sklearn.metrics import classification_report #to get a nice-looking report with everything in it \n",
        "\n",
        "print(confusion_matrix(y, y_pred))\n",
        "print()\n",
        "print(classification_report(y, y_pred))\n",
        "\n",
        "-->"
      ]
    },
    {
      "cell_type": "markdown",
      "metadata": {
        "id": "vGU8mCCot1fp"
      },
      "source": [
        "## Metrics\n",
        "\n",
        "#### Task 6\n",
        "\n",
        "Reaching this point of the lab, you have probably found out that there packages which simplify a lot of mundane things for Data Scientists. For example, [scikit-learns metrics](https://scikit-learn.org/stable/modules/classes.html?highlight=metrics#module-sklearn.metrics) is something that helps to evaluate a model in a quick and simple way.\n",
        "\n",
        "Your next task is visualize the confusion matrix using scikit-learn's [`plot_confusion_matrix()`](https://scikit-learn.org/stable/modules/generated/sklearn.metrics.plot_confusion_matrix.html#sklearn.metrics.plot_confusion_matrix).\n",
        "\n",
        "HINT: Use `display_labels` parameter."
      ]
    },
    {
      "cell_type": "code",
      "execution_count": null,
      "metadata": {
        "id": "wM2a-vTqt1fq",
        "colab": {
          "base_uri": "https://localhost:8080/",
          "height": 355
        },
        "outputId": "f0d97f5f-0f7a-4ddf-fac4-f29029087d68"
      },
      "outputs": [
        {
          "output_type": "stream",
          "name": "stderr",
          "text": [
            "/usr/local/lib/python3.7/dist-packages/sklearn/utils/deprecation.py:87: FutureWarning: Function plot_confusion_matrix is deprecated; Function `plot_confusion_matrix` is deprecated in 1.0 and will be removed in 1.2. Use one of the class methods: ConfusionMatrixDisplay.from_predictions or ConfusionMatrixDisplay.from_estimator.\n",
            "  warnings.warn(msg, category=FutureWarning)\n"
          ]
        },
        {
          "output_type": "execute_result",
          "data": {
            "text/plain": [
              "<sklearn.metrics._plot.confusion_matrix.ConfusionMatrixDisplay at 0x7ff9110b71d0>"
            ]
          },
          "metadata": {},
          "execution_count": 91
        },
        {
          "output_type": "display_data",
          "data": {
            "text/plain": [
              "<Figure size 432x288 with 2 Axes>"
            ],
            "image/png": "[encoded data removed]"
          },
          "metadata": {
            "needs_background": "light"
          }
        }
      ],
      "source": [
        "#YOUR CODE HERE\n",
        "from sklearn.metrics import plot_confusion_matrix\n",
        "plot_confusion_matrix(logreg, X, y, display_labels=[\"0=NB\", \"1=Buy\"])"
      ]
    },
    {
      "cell_type": "markdown",
      "metadata": {
        "id": "Ym-iZtz4t1fq"
      },
      "source": [
        "Double-click **here** for the solution.\n",
        "\n",
        "<!-- Your answer is below:\n",
        "    \n",
        "plot_confusion_matrix(logreg, X, y, display_labels=[\"0=NB\", \"1=Buy\"])\n",
        "\n",
        "-->"
      ]
    },
    {
      "cell_type": "markdown",
      "metadata": {
        "id": "EEDk7Wo9t1fr"
      },
      "source": [
        "### ROC and AUC\n",
        "\n",
        "#### Task 7\n",
        "\n",
        "To plot a ROC curve and get an AUC score you would need to refer to [metrics](https://scikit-learn.org/stable/modules/classes.html?highlight=metrics#module-sklearn.metrics) as well. Try to find the appropriate functions on your own."
      ]
    },
    {
      "cell_type": "code",
      "execution_count": null,
      "metadata": {
        "id": "kGgrKYVst1fr"
      },
      "outputs": [],
      "source": [
        "#ROC and AUC\n"
      ]
    },
    {
      "cell_type": "markdown",
      "metadata": {
        "id": "pANN-xBet1fr"
      },
      "source": [
        "Double-click **here** for a **HINT**.\n",
        "\n",
        "<!-- Your answer is below:\n",
        "    \n",
        "Have a look at `roc_curve()` and `roc_auc_score()` methods.\n",
        "\n",
        "-->"
      ]
    },
    {
      "cell_type": "markdown",
      "metadata": {
        "id": "3codpi2Kt1fr"
      },
      "source": [
        "----------------------"
      ]
    },
    {
      "cell_type": "markdown",
      "metadata": {
        "id": "USOefjzMt1fr"
      },
      "source": [
        "Double-click **here** for the solution.\n",
        "\n",
        "<!-- Your answer is below:\n",
        "    \n",
        "y_pred_prob = logreg.predict_proba(X)[:,1]\n",
        "fpr, tpr , threshold = roc_curve(y, y_pred_prob)\n",
        "\n",
        "plt.plot(fpr, tpr)\n",
        "plt.xlabel(\"False buy forecast (1 - TNR)\")\n",
        "plt.ylabel(\"Correct buy forecast (TPR)\")\n",
        "\n",
        "auc = roc_auc_score(y, y_pred_prob)\n",
        "print(f\"AUC:{round(auc, 2)}\")\n",
        "\n",
        "-->"
      ]
    },
    {
      "cell_type": "markdown",
      "metadata": {
        "id": "-E6Gskwxt1ft"
      },
      "source": [
        "------------------------------------"
      ]
    },
    {
      "cell_type": "markdown",
      "metadata": {
        "id": "LmU5J2MFt1ft"
      },
      "source": [
        "## Logistic Regression with multiple features\n",
        "\n",
        "### Task 8\n",
        "\n",
        "Well now, you would have to perform mostly the same steps, but now you would take persons' gender into consideration.\n",
        "\n",
        "If you think about it, you were working with multiple variables before as we introduced `int` column in the previous example. Now, **you would also need to consider an 'int' column**, but also this time the `Sex` column as well (basically, your `X` array should have three columns included: 'Income', 'Sex, 'int')."
      ]
    },
    {
      "cell_type": "markdown",
      "metadata": {
        "id": "RFNhtmIEt1ft"
      },
      "source": [
        "Repeat the same steps while taking gender into the account:\n",
        "\n",
        "1. Create `X` (or call it differently to keep the original X array intact) array with features\n",
        "2. Create `y` (or call it differently to keep the original y array intact) array with labels\n",
        "3. Create `LogisticRegression` object with parameters (C=1e9, fit_intercept=False)\n",
        "4. Fit the data into the model\n",
        "5. Make predictions\n",
        "6. Plot the estimated logistic curves for men and women on one graph\n",
        "7. Determine the coefficients (there will be one more now!)\n",
        "8. Find the values of the confusion matrix and plot it\n",
        "9. Get the classification report\n",
        "10. Plot a ROC curve and get a new AUC score"
      ]
    },
    {
      "cell_type": "code",
      "execution_count": null,
      "metadata": {
        "id": "ZtTDo8Cit1ft"
      },
      "outputs": [],
      "source": [
        "#YOUR CODE HERE\n",
        "#Feel free to insert more cells if you need any\n"
      ]
    },
    {
      "cell_type": "markdown",
      "metadata": {
        "id": "YSztDRUyt1fu"
      },
      "source": [
        "### Task 9"
      ]
    },
    {
      "cell_type": "markdown",
      "metadata": {
        "id": "sPqsp-cTt1fu"
      },
      "source": [
        "For the visualization, please, use [`seaborn.lmplot()`](https://seaborn.pydata.org/generated/seaborn.lmplot.html) this time.\n",
        "Set `hue='Sex'` and `legend=False`. In the new line (not cell) type this:\n",
        "```python\n",
        "plt.legend(title='Sex', loc='lower right', labels=['Woman', 'Man'])\n",
        "```\n",
        "\n",
        "If you are having any warnings but the graph is displayed correctly nonetheless -- it's okay!"
      ]
    },
    {
      "cell_type": "markdown",
      "metadata": {
        "id": "hRBxvBWot1fu"
      },
      "source": [
        "Double-click **here** for the solution.\n",
        "\n",
        "<!-- Your answer is below:\n",
        "    \n",
        "sns.lmplot(x='Income', y='Buy', data=df, logistic=True, hue='Sex', legend=False)\n",
        "plt.xlim(1, 4)\n",
        "plt.legend(title='Sex', loc='lower right', labels=['Woman', 'Man'])\n",
        "\n",
        "-->"
      ]
    },
    {
      "cell_type": "markdown",
      "metadata": {
        "id": "Q306_2u0t1fu"
      },
      "source": [
        "----------------------------------------------------------"
      ]
    },
    {
      "cell_type": "markdown",
      "metadata": {
        "id": "EbKYKuRUt1fu"
      },
      "source": [
        "## Final task\n",
        "\n",
        "### Task 10\n",
        "\n",
        "The task is simple. You have been given the data of two more people. Use any means and, preferably, your model to predict whether they will likely buy the butter or not!\n",
        "\n",
        "| Person | Income | Sex | Buy forecast |\n",
        "|--------|:------:|:---:|:------------:|\n",
        "| Alex   |  1.57  |  1  |       ?      |\n",
        "| Sandra |  2.92  |  0  |       ?      |"
      ]
    },
    {
      "cell_type": "code",
      "execution_count": null,
      "metadata": {
        "id": "Tm1qFan8t1fw"
      },
      "outputs": [],
      "source": [
        "#YOUR CODE HERE\n"
      ]
    },
    {
      "cell_type": "markdown",
      "metadata": {
        "id": "XctpBvtWt1fw"
      },
      "source": [
        "## The end!\n",
        "\n",
        "At this point you have reached the end of this lab! Congratulations! We hope it was not too hard, but, honestly, it was pretty hard for people who don't have too much experience in Python and Data Science. So, if you found it difficult and had to use tips or solutions -- it's completely fine! As long, as you were doing your best, you did a great job!\n",
        "\n",
        "However, feel free to give us feedback on how to improve this lab. Thank you!"
      ]
    }
  ],
  "metadata": {
    "kernelspec": {
      "display_name": "FHWS vLab Python 3",
      "language": "python",
      "name": "python3"
    },
    "language_info": {
      "codemirror_mode": {
        "name": "ipython",
        "version": 3
      },
      "file_extension": ".py",
      "mimetype": "text/x-python",
      "name": "python",
      "nbconvert_exporter": "python",
      "pygments_lexer": "ipython3",
      "version": "3.8.3"
    },
    "colab": {
      "name": "Introduction to Logistic Regression (Students).ipynb",
      "provenance": [],
      "include_colab_link": true
    }
  },
  "nbformat": 4,
  "nbformat_minor": 0
}